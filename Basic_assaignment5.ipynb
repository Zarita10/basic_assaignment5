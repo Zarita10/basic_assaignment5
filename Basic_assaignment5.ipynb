{
  "nbformat": 4,
  "nbformat_minor": 0,
  "metadata": {
    "colab": {
      "provenance": []
    },
    "kernelspec": {
      "name": "python3",
      "display_name": "Python 3"
    },
    "language_info": {
      "name": "python"
    }
  },
  "cells": [
    {
      "cell_type": "markdown",
      "source": [
        "1. What does an empty dictionary&#39;s code look like?"
      ],
      "metadata": {
        "id": "2LGw3cIAWUtf"
      }
    },
    {
      "cell_type": "code",
      "source": [
        "dict = {}\n",
        "type(dict)"
      ],
      "metadata": {
        "colab": {
          "base_uri": "https://localhost:8080/"
        },
        "id": "G7tFXu-AWaiQ",
        "outputId": "06745ee5-7917-4555-8c3c-dc0b38c3a1a3"
      },
      "execution_count": null,
      "outputs": [
        {
          "output_type": "execute_result",
          "data": {
            "text/plain": [
              "dict"
            ]
          },
          "metadata": {},
          "execution_count": 1
        }
      ]
    },
    {
      "cell_type": "markdown",
      "source": [
        "2. What is the value of a dictionary value with the key &#39;foo&#39; and the value 42?\n",
        "-{'foo':42}\n",
        "3. What is the most significant distinction between a dictionary and a list?\n",
        "\n",
        "-List: items in list are Ordered\n",
        "\n",
        "Dictionary : iten in dictionary are unordered\n",
        "\n",
        "4. What happens if you try to access spam[&#39;foo&#39;] if spam is {&#39;bar&#39;: 100}?\n",
        "-spam = {'bar':100}\n",
        "\n",
        "spam['foo']\n",
        "\n",
        "-This will give us key error\n",
        "\n",
        "5. If a dictionary is stored in spam, what is the difference between the expressions &#39;cat&#39; in spam and\n",
        "&#39;cat&#39; in spam.keys()?\n",
        "\n",
        "-\n"
      ],
      "metadata": {
        "id": "8WqCu4NlWfCu"
      }
    },
    {
      "cell_type": "code",
      "source": [
        "spam={'cat':100}\n",
        "'cat' in spam"
      ],
      "metadata": {
        "colab": {
          "base_uri": "https://localhost:8080/"
        },
        "id": "UI0IxFvme26X",
        "outputId": "a7b4d466-1c2f-4bff-d82f-cd97847f85b5"
      },
      "execution_count": null,
      "outputs": [
        {
          "output_type": "execute_result",
          "data": {
            "text/plain": [
              "True"
            ]
          },
          "metadata": {},
          "execution_count": 10
        }
      ]
    },
    {
      "cell_type": "code",
      "source": [
        "'cat' in spam.keys()"
      ],
      "metadata": {
        "colab": {
          "base_uri": "https://localhost:8080/"
        },
        "id": "8a3wC0XYhSUt",
        "outputId": "6b0c90ea-1033-46c3-b8a1-71a9580b16cb"
      },
      "execution_count": null,
      "outputs": [
        {
          "output_type": "execute_result",
          "data": {
            "text/plain": [
              "True"
            ]
          },
          "metadata": {},
          "execution_count": 12
        }
      ]
    },
    {
      "cell_type": "markdown",
      "source": [
        "-There is no differnce, both check if 'cat' is key of the dictionary and if its a key, returns True.\n",
        "6. If a dictionary is stored in spam, what is the difference between the expressions &#39;cat&#39; in spam and\n",
        "&#39;cat&#39; in spam.values()?"
      ],
      "metadata": {
        "id": "VwSS1c9shz5L"
      }
    },
    {
      "cell_type": "code",
      "source": [
        "'cat' in spam.values()"
      ],
      "metadata": {
        "colab": {
          "base_uri": "https://localhost:8080/"
        },
        "id": "AUILkvxziE1u",
        "outputId": "7fee1ae7-a019-44f9-9418-5d4e874fd4b8"
      },
      "execution_count": null,
      "outputs": [
        {
          "output_type": "execute_result",
          "data": {
            "text/plain": [
              "False"
            ]
          },
          "metadata": {},
          "execution_count": 13
        }
      ]
    },
    {
      "cell_type": "markdown",
      "source": [
        "-'cat' in spam checks whether there is a 'cat' key in the dictionary\n",
        "-'cat' in spam.values() checks whether there is a value 'cat' for one of the keys in spam.\n",
        "\n",
        "7. What is a shortcut for the following code?\n",
        "if &#39;color&#39; not in spam:\n",
        "spam[&#39;color&#39;] = &#39;black&#39;"
      ],
      "metadata": {
        "id": "UGOEhVitiYII"
      }
    },
    {
      "cell_type": "code",
      "source": [
        "spam ={'cat':100}\n",
        "spam.setdefault ('color','black')\n",
        "spam"
      ],
      "metadata": {
        "colab": {
          "base_uri": "https://localhost:8080/"
        },
        "id": "ZZPfbLuAihFH",
        "outputId": "72a59fd4-bc84-4919-8e7a-151958367fd1"
      },
      "execution_count": 18,
      "outputs": [
        {
          "output_type": "execute_result",
          "data": {
            "text/plain": [
              "{'cat': 100, 'color': 'black'}"
            ]
          },
          "metadata": {},
          "execution_count": 18
        }
      ]
    },
    {
      "cell_type": "markdown",
      "source": [
        "8. How do you &quot;pretty print&quot; dictionary values using which module and function?\n"
      ],
      "metadata": {
        "id": "TCd9Qw3ukKI5"
      }
    },
    {
      "cell_type": "code",
      "source": [
        "\n",
        "import pprint\n",
        "dct = [ {'Name': 'Saheen', 'Age': '24', 'Country': 'Bangladesh'},\n",
        "  {'Name': 'Annnoy', 'Age': '30', 'Country': 'China'},\n",
        "  {'Name': 'Jack', 'Age': '29', 'Country': 'UK'},\n",
        "  {'Name': 'Chitta', 'Age': '35', 'Country': 'USA'}]\n",
        "pprint.pprint(dct)"
      ],
      "metadata": {
        "colab": {
          "base_uri": "https://localhost:8080/"
        },
        "id": "hUu3kaChkLaK",
        "outputId": "920a559a-4571-4399-808e-5de1be4fa040"
      },
      "execution_count": 22,
      "outputs": [
        {
          "output_type": "stream",
          "name": "stdout",
          "text": [
            "[{'Age': '24', 'Country': 'Bangladesh', 'Name': 'Saheen'},\n",
            " {'Age': '30', 'Country': 'China', 'Name': 'Annnoy'},\n",
            " {'Age': '29', 'Country': 'UK', 'Name': 'Jack'},\n",
            " {'Age': '35', 'Country': 'USA', 'Name': 'Chitta'}]\n"
          ]
        }
      ]
    }
  ]
}